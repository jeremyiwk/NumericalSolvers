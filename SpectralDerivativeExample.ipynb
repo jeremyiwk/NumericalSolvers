{
 "cells": [
  {
   "cell_type": "code",
   "execution_count": 4,
   "id": "aa549118-613a-4e99-89e7-e5c4bfe8a786",
   "metadata": {},
   "outputs": [],
   "source": [
    "import numpy as np\n",
    "import matplotlib.pyplot as plt\n",
    "from scipy.stats import norm"
   ]
  },
  {
   "cell_type": "code",
   "execution_count": null,
   "id": "5ee343b2-2646-499b-8313-39860eb74595",
   "metadata": {},
   "outputs": [],
   "source": []
  },
  {
   "cell_type": "code",
   "execution_count": 72,
   "id": "5af1c7c9-3610-48f0-8eab-a23e6e91a2bb",
   "metadata": {},
   "outputs": [],
   "source": [
    "xmin, xmax = -5, 5\n",
    "res = 1000\n",
    "x_arr = np.linspace(xmin, xmax, res)\n",
    "f_arr = norm.pdf(x_arr,loc=0,scale=1/10)\n",
    "dx = (x_arr[1]-x_arr[0])"
   ]
  },
  {
   "cell_type": "code",
   "execution_count": 73,
   "id": "82fa8eb5-ca18-414f-b9ba-2b946220b504",
   "metadata": {},
   "outputs": [
    {
     "data": {
      "text/plain": [
       "1.0"
      ]
     },
     "execution_count": 73,
     "metadata": {},
     "output_type": "execute_result"
    }
   ],
   "source": [
    "(f_arr*dx).sum()"
   ]
  },
  {
   "cell_type": "code",
   "execution_count": 74,
   "id": "f9b8c2d1-9860-48ed-be6c-84aa55649e21",
   "metadata": {},
   "outputs": [
    {
     "data": {
      "image/png": "[encoded data removed]",
      "text/plain": [
       "<Figure size 432x288 with 1 Axes>"
      ]
     },
     "metadata": {
      "needs_background": "light"
     },
     "output_type": "display_data"
    }
   ],
   "source": [
    "plt.plot(x_arr, f_arr);"
   ]
  },
  {
   "cell_type": "code",
   "execution_count": 75,
   "id": "d90fe988-edca-4961-90ed-b687c0f45241",
   "metadata": {},
   "outputs": [],
   "source": [
    "f_arr_fft = np.fft.fft(f_arr) "
   ]
  },
  {
   "cell_type": "code",
   "execution_count": 76,
   "id": "5c81b660-4d0a-48b8-b146-f2d92723db34",
   "metadata": {},
   "outputs": [],
   "source": [
    "kmax = np.pi/dx\n",
    "kmin = 2*np.pi/(xmax - xmin)\n",
    "k_pos = np.arange(0, kmax, kmin)\n",
    "k_neg = np.arange(-kmax, 0, kmin)\n",
    "k_arr = np.concatenate([k_pos, k_neg])"
   ]
  },
  {
   "cell_type": "code",
   "execution_count": 80,
   "id": "d7abc2a2-41b7-4183-baa9-430fd93136a0",
   "metadata": {},
   "outputs": [],
   "source": [
    "deriv_f_arr = np.fft.ifft(1j*k_arr*f_arr_fft)"
   ]
  },
  {
   "cell_type": "code",
   "execution_count": 81,
   "id": "af660f65-9fd0-45bc-8265-216d7fa54acf",
   "metadata": {},
   "outputs": [
    {
     "data": {
      "text/plain": [
       "[<matplotlib.lines.Line2D at 0x7f930b5d5128>]"
      ]
     },
     "execution_count": 81,
     "metadata": {},
     "output_type": "execute_result"
    },
    {
     "data": {
      "image/png": "[encoded data removed]",
      "text/plain": [
       "<Figure size 432x288 with 1 Axes>"
      ]
     },
     "metadata": {
      "needs_background": "light"
     },
     "output_type": "display_data"
    }
   ],
   "source": [
    "plt.plot(x_arr, np.real(deriv_f_arr))\n",
    "plt.plot(x_arr, np.imag(deriv_f_arr))"
   ]
  },
  {
   "cell_type": "code",
   "execution_count": null,
   "id": "f3b68e3c-5261-4c85-b254-c854c8071f7c",
   "metadata": {},
   "outputs": [],
   "source": []
  },
  {
   "cell_type": "code",
   "execution_count": null,
   "id": "42fb282b-a8e0-4514-8e98-77073249d228",
   "metadata": {},
   "outputs": [],
   "source": []
  }
 ],
 "metadata": {
  "kernelspec": {
   "display_name": "Python 3 (ipykernel)",
   "language": "python",
   "name": "python3"
  },
  "language_info": {
   "codemirror_mode": {
    "name": "ipython",
    "version": 3
   },
   "file_extension": ".py",
   "mimetype": "text/x-python",
   "name": "python",
   "nbconvert_exporter": "python",
   "pygments_lexer": "ipython3",
   "version": "3.7.2"
  }
 },
 "nbformat": 4,
 "nbformat_minor": 5
}
